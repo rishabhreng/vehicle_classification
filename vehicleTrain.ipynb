{
 "cells": [
  {
   "cell_type": "code",
   "execution_count": 1,
   "metadata": {
    "ExecuteTime": {
     "start_time": "2024-03-06T03:49:25.419529200Z"
    },
    "collapsed": true,
    "is_executing": true
   },
   "outputs": [],
   "source": [
    "from pandas import DataFrame, read_csv\n",
    "from torch.utils.data import random_split\n",
    "from torchvision.io import read_image\n",
    "from torch.utils.data import Dataset, DataLoader\n",
    "import torch.nn as nn\n",
    "import os\n",
    "import torch"
   ]
  },
  {
   "cell_type": "code",
   "execution_count": 2,
   "metadata": {},
   "outputs": [
    {
     "name": "stdout",
     "output_type": "stream",
     "text": [
      "['Bicycle', 'Bus', 'Car', 'Motorcycle', 'NonVehicles', 'Taxi', 'Truck', 'Van']\n"
     ]
    }
   ],
   "source": [
    "# create labels csv\n",
    "\n",
    "types = os.listdir(\"vehicle_classification\")\n",
    "print(types)\n",
    "\n",
    "conversion = {\n",
    "    'Bicycle': 0,\n",
    "    'Bus': 1,\n",
    "    'Car': 2,\n",
    "    'Motorcycle': 3,\n",
    "    'NonVehicles': 4,\n",
    "    'Taxi': 5,\n",
    "    'Truck': 6,\n",
    "    'Van': 7\n",
    "}\n",
    "labels = {}\n",
    "for t in types:\n",
    "    for img in os.listdir(f\"vehicle_classification/{t}\"):\n",
    "        labels[f\"{t}\\\\{img}\"] = conversion[t]\n",
    "df = DataFrame.from_dict(labels, orient='index', columns=[\"type\"])\n",
    "\n",
    "df.to_csv(\"labels.csv\")"
   ]
  },
  {
   "cell_type": "code",
   "execution_count": 3,
   "metadata": {
    "collapsed": false,
    "is_executing": true
   },
   "outputs": [],
   "source": [
    "class CustomImageDataset(Dataset):\n",
    "    def __init__(self, annotations_file, img_dir, transform=None, target_transform=None):\n",
    "        self.img_labels = read_csv(annotations_file)\n",
    "        self.img_dir = img_dir\n",
    "        self.transform = transform\n",
    "        self.target_transform = target_transform\n",
    "\n",
    "    def __len__(self):\n",
    "        return len(self.img_labels)\n",
    "\n",
    "    def __getitem__(self, idx):\n",
    "        img_path = os.path.join(self.img_dir, self.img_labels.iloc[idx, 0])\n",
    "        image = read_image(img_path)\n",
    "        \n",
    "        label = self.img_labels.iloc[idx, 1]\n",
    "        if self.transform:\n",
    "            image = self.transform(image)\n",
    "        if self.target_transform:\n",
    "            label = self.target_transform(label)\n",
    "        return image.type_as(torch.FloatTensor()), label"
   ]
  },
  {
   "cell_type": "code",
   "execution_count": 4,
   "metadata": {
    "ExecuteTime": {
     "end_time": "2024-03-06T03:47:06.996729800Z",
     "start_time": "2024-03-06T03:47:06.950319800Z"
    },
    "collapsed": false
   },
   "outputs": [],
   "source": [
    "data = CustomImageDataset(\"labels.csv\", \"vehicle_classification\", transform=None)\n",
    "train_data, test_data = random_split(data, [0.8, 0.2])"
   ]
  },
  {
   "cell_type": "code",
   "execution_count": 5,
   "metadata": {},
   "outputs": [
    {
     "name": "stdout",
     "output_type": "stream",
     "text": [
      "Shape of features batch [N, C, H, W]: torch.Size([64, 3, 64, 64])\n",
      "Length of label batch: 64\n",
      "Type of X: torch.float32\n",
      "Type of y: torch.int64\n"
     ]
    }
   ],
   "source": [
    "batch_size = 64\n",
    "\n",
    "# Create data loaders.\n",
    "train_dataloader = DataLoader(train_data, batch_size=batch_size)\n",
    "test_dataloader = DataLoader(test_data, batch_size=batch_size)\n",
    "\n",
    "\n",
    "feature_batch, label_batch = next(iter(train_dataloader))\n",
    "print(f\"Shape of features batch [N, C, H, W]: {feature_batch.shape}\")\n",
    "print(f\"Length of label batch: {len(label_batch)}\")\n",
    "print(f\"Type of X: {feature_batch.dtype}\")\n",
    "print(f\"Type of y: {label_batch.dtype}\")"
   ]
  },
  {
   "cell_type": "code",
   "execution_count": 6,
   "metadata": {},
   "outputs": [
    {
     "name": "stdout",
     "output_type": "stream",
     "text": [
      "Using cuda device\n",
      "CNN(\n",
      "  (network): Sequential(\n",
      "    (0): Conv2d(3, 32, kernel_size=(3, 3), stride=(1, 1))\n",
      "    (1): ReLU()\n",
      "    (2): MaxPool2d(kernel_size=3, stride=3, padding=0, dilation=1, ceil_mode=False)\n",
      "    (3): Flatten(start_dim=1, end_dim=-1)\n",
      "    (4): Linear(in_features=12800, out_features=128, bias=True)\n",
      "    (5): ReLU()\n",
      "    (6): Linear(in_features=128, out_features=64, bias=True)\n",
      "    (7): ReLU()\n",
      "    (8): Linear(in_features=64, out_features=8, bias=True)\n",
      "  )\n",
      ")\n"
     ]
    }
   ],
   "source": [
    "# use gpu/cpu\n",
    "device = \"cuda\" if torch.cuda.is_available() else \"cpu\"\n",
    "print(f\"Using {device} device\")\n",
    "\n",
    "# Define model\n",
    "class CNN(nn.Module):\n",
    "    def __init__(self):\n",
    "        super().__init__()\n",
    "    \n",
    "        self.network = nn.Sequential (\n",
    "            nn.Conv2d(in_channels=3, out_channels=32, kernel_size=3),\n",
    "            nn.ReLU(),\n",
    "            nn.MaxPool2d(kernel_size=3),\n",
    "            \n",
    "            nn.Flatten(),\n",
    "            \n",
    "            nn.Linear(in_features=12800, out_features=128),\n",
    "            nn.ReLU(),\n",
    "            nn.Linear(in_features=128, out_features=64),\n",
    "\n",
    "            nn.ReLU(),\n",
    "            nn.Linear(in_features=64, out_features=8)\n",
    "        )\n",
    "        \n",
    "        \n",
    "\n",
    "    def forward(self, x):\n",
    "        out = self.network(x)\n",
    "        # print (out.shape)\n",
    "        return self.network(x)     \n",
    "\n",
    "model = CNN().to(device)\n",
    "print(model)"
   ]
  },
  {
   "cell_type": "code",
   "execution_count": 7,
   "metadata": {},
   "outputs": [],
   "source": [
    "loss_fn = nn.CrossEntropyLoss()\n",
    "optimizer = torch.optim.SGD(model.parameters(), lr=1e-3)"
   ]
  },
  {
   "cell_type": "code",
   "execution_count": 8,
   "metadata": {},
   "outputs": [],
   "source": [
    "def train(dataloader: DataLoader, model: nn.Module, loss_fn, optimizer):\n",
    "    size = len(dataloader.dataset)\n",
    "    model.train()\n",
    "    for batch, (feature, label) in enumerate(dataloader):\n",
    "        feature, label = feature.to(device), label.to(device)\n",
    "        pred = model(feature)\n",
    "        loss = loss_fn(pred, label)\n",
    "        \n",
    "        loss.backward()\n",
    "        optimizer.step()\n",
    "        optimizer.zero_grad()\n",
    "\n",
    "        if batch % 100 == 0:\n",
    "            loss, current = loss.item(), (batch + 1) * len(feature)\n",
    "            print(f\"loss: {loss:>7f}  [{current:>5d}/{size:>5d}]\")"
   ]
  },
  {
   "cell_type": "code",
   "execution_count": 9,
   "metadata": {},
   "outputs": [],
   "source": [
    "def test(dataloader, model, loss_fn):\n",
    "    size = len(dataloader.dataset)\n",
    "    num_batches = len(dataloader)\n",
    "    model.eval()\n",
    "    test_loss, correct = 0, 0\n",
    "    with torch.no_grad():\n",
    "        for X, y in dataloader:\n",
    "            X, y = X.to(device), y.to(device)\n",
    "            pred = model(X)\n",
    "            test_loss += loss_fn(pred, y).item()\n",
    "            correct += (pred.argmax(1) == y).type(torch.float).sum().item()\n",
    "    test_loss /= num_batches\n",
    "    correct /= size\n",
    "    print(f\"Test Error: \\n Accuracy: {(100*correct):>0.1f}%, Avg loss: {test_loss:>8f} \\n\")\n",
    "    return (correct, test_loss)"
   ]
  },
  {
   "cell_type": "code",
   "execution_count": 30,
   "metadata": {},
   "outputs": [
    {
     "name": "stdout",
     "output_type": "stream",
     "text": [
      "Epoch 1\n",
      "-------------------------------\n",
      "loss: 0.609913  [   64/21103]\n",
      "loss: 0.380389  [ 6464/21103]\n",
      "loss: 0.563296  [12864/21103]\n",
      "loss: 0.665378  [19264/21103]\n",
      "Test Error: \n",
      " Accuracy: 73.1%, Avg loss: 0.756520 \n",
      "\n",
      "Epoch 2\n",
      "-------------------------------\n",
      "loss: 0.578369  [   64/21103]\n",
      "loss: 0.337718  [ 6464/21103]\n",
      "loss: 0.529570  [12864/21103]\n",
      "loss: 0.631546  [19264/21103]\n",
      "Test Error: \n",
      " Accuracy: 71.3%, Avg loss: 0.801114 \n",
      "\n",
      "Epoch 3\n",
      "-------------------------------\n",
      "loss: 0.581722  [   64/21103]\n",
      "loss: 0.308981  [ 6464/21103]\n",
      "loss: 0.496208  [12864/21103]\n",
      "loss: 0.609135  [19264/21103]\n",
      "Test Error: \n",
      " Accuracy: 72.2%, Avg loss: 0.785861 \n",
      "\n",
      "Epoch 4\n",
      "-------------------------------\n",
      "loss: 0.538653  [   64/21103]\n",
      "loss: 0.281369  [ 6464/21103]\n",
      "loss: 0.488981  [12864/21103]\n",
      "loss: 0.573146  [19264/21103]\n",
      "Test Error: \n",
      " Accuracy: 71.4%, Avg loss: 0.814851 \n",
      "\n",
      "Epoch 5\n",
      "-------------------------------\n",
      "loss: 0.512342  [   64/21103]\n",
      "loss: 0.250270  [ 6464/21103]\n",
      "loss: 0.525896  [12864/21103]\n",
      "loss: 0.532487  [19264/21103]\n",
      "Test Error: \n",
      " Accuracy: 72.0%, Avg loss: 0.797244 \n",
      "\n",
      "Done!\n"
     ]
    }
   ],
   "source": [
    "from time import time\n",
    "epochs = 5\n",
    "with open(\"results.csv\", \"w\") as f:\n",
    "    f.write(\"epoch, loss, accuracy, time taken\\n\")\n",
    "\n",
    "for t in range(epochs):\n",
    "    print(f\"Epoch {t+1}\\n-------------------------------\")\n",
    "    t0 = time()\n",
    "    train(train_dataloader, model, loss_fn, optimizer)\n",
    "    acc, loss = test(test_dataloader, model, loss_fn)\n",
    "    t1 = time()\n",
    "    with open(\"results.csv\", \"a\") as f:\n",
    "        f.write(f\"{t+1}, {loss}, {acc}, {t1-t0}\\n\")\n",
    "print(\"Done!\")"
   ]
  },
  {
   "cell_type": "code",
   "execution_count": 29,
   "metadata": {},
   "outputs": [
    {
     "name": "stdout",
     "output_type": "stream",
     "text": [
      "Saved PyTorch Model State to model.pth\n"
     ]
    }
   ],
   "source": [
    "torch.save(model.state_dict(), \"model.pth\")\n",
    "print(\"Saved PyTorch Model State to model.pth\")"
   ]
  },
  {
   "cell_type": "code",
   "execution_count": 281,
   "metadata": {},
   "outputs": [
    {
     "name": "stdout",
     "output_type": "stream",
     "text": [
      "Accuracy: 74.69879518072288%\n"
     ]
    }
   ],
   "source": [
    "classes = list(conversion.keys())\n",
    "\n",
    "correct = 0\n",
    "total = 0\n",
    "\n",
    "model.eval()\n",
    "for x, label_batch in test_dataloader:\n",
    "    with torch.no_grad():\n",
    "        x = x.to(device)\n",
    "        pred = model(x)\n",
    "        predicted, actual = classes[pred[0].argmax(0)], classes[label_batch[0].item()]\n",
    "        if predicted == actual:\n",
    "            correct += 1\n",
    "        total += 1\n",
    "\n",
    "print(f\"Accuracy: {correct/total*100}%\")"
   ]
  }
 ],
 "metadata": {
  "kernelspec": {
   "display_name": "Python 3",
   "language": "python",
   "name": "python3"
  },
  "language_info": {
   "codemirror_mode": {
    "name": "ipython",
    "version": 3
   },
   "file_extension": ".py",
   "mimetype": "text/x-python",
   "name": "python",
   "nbconvert_exporter": "python",
   "pygments_lexer": "ipython3",
   "version": "3.11.7"
  }
 },
 "nbformat": 4,
 "nbformat_minor": 0
}
